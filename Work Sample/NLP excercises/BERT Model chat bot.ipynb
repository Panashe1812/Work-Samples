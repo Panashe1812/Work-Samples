{
 "cells": [
  {
   "cell_type": "markdown",
   "metadata": {},
   "source": [
    "![MLU Logo](https://drive.corp.amazon.com/view/bwernes@/MLU_Logo.png?download=true)"
   ]
  },
  {
   "cell_type": "markdown",
   "metadata": {},
   "source": [
    "## NLP2 Lecture 1 Support Notebook - part 2"
   ]
  },
  {
   "cell_type": "markdown",
   "metadata": {},
   "source": [
    "## Question Answering with a fine-tuned BERT on CoQA dataset\n",
    "\n",
    "### Importing the libraries"
   ]
  },
  {
   "cell_type": "code",
   "execution_count": 1,
   "metadata": {},
   "outputs": [
    {
     "name": "stdout",
     "output_type": "stream",
     "text": [
      "Requirement already satisfied: transformers in c:\\users\\callmepc\\anaconda3\\lib\\site-packages (4.15.0)\n",
      "Requirement already satisfied: pyyaml>=5.1 in c:\\users\\callmepc\\anaconda3\\lib\\site-packages (from transformers) (5.3)\n",
      "Requirement already satisfied: requests in c:\\users\\callmepc\\anaconda3\\lib\\site-packages (from transformers) (2.25.1)\n",
      "Requirement already satisfied: tokenizers<0.11,>=0.10.1 in c:\\users\\callmepc\\anaconda3\\lib\\site-packages (from transformers) (0.10.3)\n",
      "Requirement already satisfied: tqdm>=4.27 in c:\\users\\callmepc\\anaconda3\\lib\\site-packages (from transformers) (4.42.1)\n",
      "Requirement already satisfied: numpy>=1.17 in c:\\users\\callmepc\\anaconda3\\lib\\site-packages (from transformers) (1.18.5)\n",
      "Requirement already satisfied: packaging>=20.0 in c:\\users\\callmepc\\anaconda3\\lib\\site-packages (from transformers) (20.1)\n",
      "Requirement already satisfied: importlib-metadata; python_version < \"3.8\" in c:\\users\\callmepc\\anaconda3\\lib\\site-packages (from transformers) (1.5.0)\n",
      "Requirement already satisfied: filelock in c:\\users\\callmepc\\anaconda3\\lib\\site-packages (from transformers) (3.0.12)\n",
      "Requirement already satisfied: sacremoses in c:\\users\\callmepc\\anaconda3\\lib\\site-packages (from transformers) (0.0.46)\n",
      "Requirement already satisfied: regex!=2019.12.17 in c:\\users\\callmepc\\anaconda3\\lib\\site-packages (from transformers) (2021.11.10)\n",
      "Requirement already satisfied: huggingface-hub<1.0,>=0.1.0 in c:\\users\\callmepc\\anaconda3\\lib\\site-packages (from transformers) (0.2.1)\n",
      "Requirement already satisfied: certifi>=2017.4.17 in c:\\users\\callmepc\\anaconda3\\lib\\site-packages (from requests->transformers) (2019.11.28)\n",
      "Requirement already satisfied: chardet<5,>=3.0.2 in c:\\users\\callmepc\\anaconda3\\lib\\site-packages (from requests->transformers) (3.0.4)\n",
      "Requirement already satisfied: urllib3<1.27,>=1.21.1 in c:\\users\\callmepc\\anaconda3\\lib\\site-packages (from requests->transformers) (1.25.8)\n",
      "Requirement already satisfied: idna<3,>=2.5 in c:\\users\\callmepc\\anaconda3\\lib\\site-packages (from requests->transformers) (2.8)\n",
      "Requirement already satisfied: pyparsing>=2.0.2 in c:\\users\\callmepc\\anaconda3\\lib\\site-packages (from packaging>=20.0->transformers) (2.4.6)\n",
      "Requirement already satisfied: six in c:\\users\\callmepc\\appdata\\roaming\\python\\python37\\site-packages (from packaging>=20.0->transformers) (1.15.0)\n",
      "Requirement already satisfied: zipp>=0.5 in c:\\users\\callmepc\\anaconda3\\lib\\site-packages (from importlib-metadata; python_version < \"3.8\"->transformers) (2.2.0)\n",
      "Requirement already satisfied: joblib in c:\\users\\callmepc\\anaconda3\\lib\\site-packages (from sacremoses->transformers) (0.14.1)\n",
      "Requirement already satisfied: click in c:\\users\\callmepc\\anaconda3\\lib\\site-packages (from sacremoses->transformers) (7.0)\n",
      "Requirement already satisfied: typing-extensions>=3.7.4.3 in c:\\users\\callmepc\\anaconda3\\lib\\site-packages (from huggingface-hub<1.0,>=0.1.0->transformers) (3.7.4.3)\n"
     ]
    }
   ],
   "source": [
    "import pandas as pd\n",
    "import numpy as np\n",
    "import matplotlib.pyplot as plt\n",
    "import seaborn as sns\n",
    "\n",
    "!pip install transformers\n",
    "\n",
    "import torch\n",
    "from transformers import BertForQuestionAnswering\n",
    "from transformers import BertTokenizer"
   ]
  },
  {
   "cell_type": "markdown",
   "metadata": {},
   "source": [
    "### Data loading"
   ]
  },
  {
   "cell_type": "code",
   "execution_count": 2,
   "metadata": {},
   "outputs": [
    {
     "data": {
      "text/html": [
       "<div>\n",
       "<style scoped>\n",
       "    .dataframe tbody tr th:only-of-type {\n",
       "        vertical-align: middle;\n",
       "    }\n",
       "\n",
       "    .dataframe tbody tr th {\n",
       "        vertical-align: top;\n",
       "    }\n",
       "\n",
       "    .dataframe thead th {\n",
       "        text-align: right;\n",
       "    }\n",
       "</style>\n",
       "<table border=\"1\" class=\"dataframe\">\n",
       "  <thead>\n",
       "    <tr style=\"text-align: right;\">\n",
       "      <th></th>\n",
       "      <th>version</th>\n",
       "      <th>data</th>\n",
       "    </tr>\n",
       "  </thead>\n",
       "  <tbody>\n",
       "    <tr>\n",
       "      <th>0</th>\n",
       "      <td>1</td>\n",
       "      <td>{'source': 'wikipedia', 'id': '3zotghdk5ibi9ce...</td>\n",
       "    </tr>\n",
       "    <tr>\n",
       "      <th>1</th>\n",
       "      <td>1</td>\n",
       "      <td>{'source': 'cnn', 'id': '3wj1oxy92agboo5nlq4r7...</td>\n",
       "    </tr>\n",
       "    <tr>\n",
       "      <th>2</th>\n",
       "      <td>1</td>\n",
       "      <td>{'source': 'gutenberg', 'id': '3bdcf01ogxu7zdn...</td>\n",
       "    </tr>\n",
       "    <tr>\n",
       "      <th>3</th>\n",
       "      <td>1</td>\n",
       "      <td>{'source': 'cnn', 'id': '3ewijtffvo7wwchw6rtya...</td>\n",
       "    </tr>\n",
       "    <tr>\n",
       "      <th>4</th>\n",
       "      <td>1</td>\n",
       "      <td>{'source': 'gutenberg', 'id': '3urfvvm165iantk...</td>\n",
       "    </tr>\n",
       "  </tbody>\n",
       "</table>\n",
       "</div>"
      ],
      "text/plain": [
       "   version                                               data\n",
       "0        1  {'source': 'wikipedia', 'id': '3zotghdk5ibi9ce...\n",
       "1        1  {'source': 'cnn', 'id': '3wj1oxy92agboo5nlq4r7...\n",
       "2        1  {'source': 'gutenberg', 'id': '3bdcf01ogxu7zdn...\n",
       "3        1  {'source': 'cnn', 'id': '3ewijtffvo7wwchw6rtya...\n",
       "4        1  {'source': 'gutenberg', 'id': '3urfvvm165iantk..."
      ]
     },
     "execution_count": 2,
     "metadata": {},
     "output_type": "execute_result"
    }
   ],
   "source": [
    "coqa = pd.read_json('http://downloads.cs.stanford.edu/nlp/data/coqa/coqa-train-v1.0.json')\n",
    "coqa.head()"
   ]
  },
  {
   "cell_type": "markdown",
   "metadata": {},
   "source": [
    "### Data cleaning"
   ]
  },
  {
   "cell_type": "code",
   "execution_count": 3,
   "metadata": {},
   "outputs": [],
   "source": [
    "del coqa[\"version\"]"
   ]
  },
  {
   "cell_type": "code",
   "execution_count": 4,
   "metadata": {},
   "outputs": [
    {
     "data": {
      "text/html": [
       "<div>\n",
       "<style scoped>\n",
       "    .dataframe tbody tr th:only-of-type {\n",
       "        vertical-align: middle;\n",
       "    }\n",
       "\n",
       "    .dataframe tbody tr th {\n",
       "        vertical-align: top;\n",
       "    }\n",
       "\n",
       "    .dataframe thead th {\n",
       "        text-align: right;\n",
       "    }\n",
       "</style>\n",
       "<table border=\"1\" class=\"dataframe\">\n",
       "  <thead>\n",
       "    <tr style=\"text-align: right;\">\n",
       "      <th></th>\n",
       "      <th>data</th>\n",
       "    </tr>\n",
       "  </thead>\n",
       "  <tbody>\n",
       "    <tr>\n",
       "      <th>0</th>\n",
       "      <td>{'source': 'wikipedia', 'id': '3zotghdk5ibi9ce...</td>\n",
       "    </tr>\n",
       "    <tr>\n",
       "      <th>1</th>\n",
       "      <td>{'source': 'cnn', 'id': '3wj1oxy92agboo5nlq4r7...</td>\n",
       "    </tr>\n",
       "    <tr>\n",
       "      <th>2</th>\n",
       "      <td>{'source': 'gutenberg', 'id': '3bdcf01ogxu7zdn...</td>\n",
       "    </tr>\n",
       "    <tr>\n",
       "      <th>3</th>\n",
       "      <td>{'source': 'cnn', 'id': '3ewijtffvo7wwchw6rtya...</td>\n",
       "    </tr>\n",
       "    <tr>\n",
       "      <th>4</th>\n",
       "      <td>{'source': 'gutenberg', 'id': '3urfvvm165iantk...</td>\n",
       "    </tr>\n",
       "    <tr>\n",
       "      <th>5</th>\n",
       "      <td>{'source': 'race', 'id': '3ftf2t8wlri896r0rn6x...</td>\n",
       "    </tr>\n",
       "  </tbody>\n",
       "</table>\n",
       "</div>"
      ],
      "text/plain": [
       "                                                data\n",
       "0  {'source': 'wikipedia', 'id': '3zotghdk5ibi9ce...\n",
       "1  {'source': 'cnn', 'id': '3wj1oxy92agboo5nlq4r7...\n",
       "2  {'source': 'gutenberg', 'id': '3bdcf01ogxu7zdn...\n",
       "3  {'source': 'cnn', 'id': '3ewijtffvo7wwchw6rtya...\n",
       "4  {'source': 'gutenberg', 'id': '3urfvvm165iantk...\n",
       "5  {'source': 'race', 'id': '3ftf2t8wlri896r0rn6x..."
      ]
     },
     "execution_count": 4,
     "metadata": {},
     "output_type": "execute_result"
    }
   ],
   "source": [
    "coqa.head(6)"
   ]
  },
  {
   "cell_type": "code",
   "execution_count": 5,
   "metadata": {},
   "outputs": [],
   "source": [
    "cols = [\"text\",\"question\",\"answer\"]\n",
    "\n",
    "# j = 1\n",
    "comp_list = []\n",
    "for index, row in coqa.iterrows():\n",
    "    for i in range(len(row[\"data\"][\"questions\"])):\n",
    "        temp_list = []\n",
    "#         temp_list.append(j)\n",
    "        temp_list.append(row[\"data\"][\"story\"])\n",
    "        temp_list.append(row[\"data\"][\"questions\"][i][\"input_text\"])\n",
    "        temp_list.append(row[\"data\"][\"answers\"][i][\"input_text\"])\n",
    "        comp_list.append(temp_list)\n",
    "#     j += 1\n",
    "new_df = pd.DataFrame(comp_list, columns=cols) "
   ]
  },
  {
   "cell_type": "code",
   "execution_count": 6,
   "metadata": {},
   "outputs": [
    {
     "data": {
      "text/html": [
       "<div>\n",
       "<style scoped>\n",
       "    .dataframe tbody tr th:only-of-type {\n",
       "        vertical-align: middle;\n",
       "    }\n",
       "\n",
       "    .dataframe tbody tr th {\n",
       "        vertical-align: top;\n",
       "    }\n",
       "\n",
       "    .dataframe thead th {\n",
       "        text-align: right;\n",
       "    }\n",
       "</style>\n",
       "<table border=\"1\" class=\"dataframe\">\n",
       "  <thead>\n",
       "    <tr style=\"text-align: right;\">\n",
       "      <th></th>\n",
       "      <th>text</th>\n",
       "      <th>question</th>\n",
       "      <th>answer</th>\n",
       "    </tr>\n",
       "  </thead>\n",
       "  <tbody>\n",
       "    <tr>\n",
       "      <th>0</th>\n",
       "      <td>The Vatican Apostolic Library (), more commonl...</td>\n",
       "      <td>When was the Vat formally opened?</td>\n",
       "      <td>It was formally established in 1475</td>\n",
       "    </tr>\n",
       "    <tr>\n",
       "      <th>1</th>\n",
       "      <td>The Vatican Apostolic Library (), more commonl...</td>\n",
       "      <td>what is the library for?</td>\n",
       "      <td>research</td>\n",
       "    </tr>\n",
       "    <tr>\n",
       "      <th>2</th>\n",
       "      <td>The Vatican Apostolic Library (), more commonl...</td>\n",
       "      <td>for what subjects?</td>\n",
       "      <td>history, and law</td>\n",
       "    </tr>\n",
       "    <tr>\n",
       "      <th>3</th>\n",
       "      <td>The Vatican Apostolic Library (), more commonl...</td>\n",
       "      <td>and?</td>\n",
       "      <td>philosophy, science and theology</td>\n",
       "    </tr>\n",
       "    <tr>\n",
       "      <th>4</th>\n",
       "      <td>The Vatican Apostolic Library (), more commonl...</td>\n",
       "      <td>what was started in 2014?</td>\n",
       "      <td>a  project</td>\n",
       "    </tr>\n",
       "  </tbody>\n",
       "</table>\n",
       "</div>"
      ],
      "text/plain": [
       "                                                text  \\\n",
       "0  The Vatican Apostolic Library (), more commonl...   \n",
       "1  The Vatican Apostolic Library (), more commonl...   \n",
       "2  The Vatican Apostolic Library (), more commonl...   \n",
       "3  The Vatican Apostolic Library (), more commonl...   \n",
       "4  The Vatican Apostolic Library (), more commonl...   \n",
       "\n",
       "                            question                               answer  \n",
       "0  When was the Vat formally opened?  It was formally established in 1475  \n",
       "1           what is the library for?                             research  \n",
       "2                 for what subjects?                     history, and law  \n",
       "3                               and?     philosophy, science and theology  \n",
       "4          what was started in 2014?                           a  project  "
      ]
     },
     "execution_count": 6,
     "metadata": {},
     "output_type": "execute_result"
    }
   ],
   "source": [
    "new_df.head()"
   ]
  },
  {
   "cell_type": "markdown",
   "metadata": {},
   "source": [
    "### Saving the data as csv"
   ]
  },
  {
   "cell_type": "code",
   "execution_count": 7,
   "metadata": {},
   "outputs": [],
   "source": [
    "new_df.to_csv(\"CoQA_data.csv\", index=False)"
   ]
  },
  {
   "cell_type": "markdown",
   "metadata": {},
   "source": [
    "### Loading the data"
   ]
  },
  {
   "cell_type": "code",
   "execution_count": 8,
   "metadata": {},
   "outputs": [
    {
     "data": {
      "text/html": [
       "<div>\n",
       "<style scoped>\n",
       "    .dataframe tbody tr th:only-of-type {\n",
       "        vertical-align: middle;\n",
       "    }\n",
       "\n",
       "    .dataframe tbody tr th {\n",
       "        vertical-align: top;\n",
       "    }\n",
       "\n",
       "    .dataframe thead th {\n",
       "        text-align: right;\n",
       "    }\n",
       "</style>\n",
       "<table border=\"1\" class=\"dataframe\">\n",
       "  <thead>\n",
       "    <tr style=\"text-align: right;\">\n",
       "      <th></th>\n",
       "      <th>text</th>\n",
       "      <th>question</th>\n",
       "      <th>answer</th>\n",
       "    </tr>\n",
       "  </thead>\n",
       "  <tbody>\n",
       "    <tr>\n",
       "      <th>0</th>\n",
       "      <td>The Vatican Apostolic Library (), more commonl...</td>\n",
       "      <td>When was the Vat formally opened?</td>\n",
       "      <td>It was formally established in 1475</td>\n",
       "    </tr>\n",
       "    <tr>\n",
       "      <th>1</th>\n",
       "      <td>The Vatican Apostolic Library (), more commonl...</td>\n",
       "      <td>what is the library for?</td>\n",
       "      <td>research</td>\n",
       "    </tr>\n",
       "    <tr>\n",
       "      <th>2</th>\n",
       "      <td>The Vatican Apostolic Library (), more commonl...</td>\n",
       "      <td>for what subjects?</td>\n",
       "      <td>history, and law</td>\n",
       "    </tr>\n",
       "    <tr>\n",
       "      <th>3</th>\n",
       "      <td>The Vatican Apostolic Library (), more commonl...</td>\n",
       "      <td>and?</td>\n",
       "      <td>philosophy, science and theology</td>\n",
       "    </tr>\n",
       "    <tr>\n",
       "      <th>4</th>\n",
       "      <td>The Vatican Apostolic Library (), more commonl...</td>\n",
       "      <td>what was started in 2014?</td>\n",
       "      <td>a  project</td>\n",
       "    </tr>\n",
       "  </tbody>\n",
       "</table>\n",
       "</div>"
      ],
      "text/plain": [
       "                                                text  \\\n",
       "0  The Vatican Apostolic Library (), more commonl...   \n",
       "1  The Vatican Apostolic Library (), more commonl...   \n",
       "2  The Vatican Apostolic Library (), more commonl...   \n",
       "3  The Vatican Apostolic Library (), more commonl...   \n",
       "4  The Vatican Apostolic Library (), more commonl...   \n",
       "\n",
       "                            question                               answer  \n",
       "0  When was the Vat formally opened?  It was formally established in 1475  \n",
       "1           what is the library for?                             research  \n",
       "2                 for what subjects?                     history, and law  \n",
       "3                               and?     philosophy, science and theology  \n",
       "4          what was started in 2014?                           a  project  "
      ]
     },
     "execution_count": 8,
     "metadata": {},
     "output_type": "execute_result"
    }
   ],
   "source": [
    "data = pd.read_csv(\"CoQA_data.csv\")\n",
    "data.head()"
   ]
  },
  {
   "cell_type": "code",
   "execution_count": 9,
   "metadata": {},
   "outputs": [
    {
     "name": "stdout",
     "output_type": "stream",
     "text": [
      "Number of question and answers:  108647\n"
     ]
    }
   ],
   "source": [
    "print(\"Number of question and answers: \", len(data))"
   ]
  },
  {
   "cell_type": "markdown",
   "metadata": {},
   "source": [
    "### Building the chatbot"
   ]
  },
  {
   "cell_type": "code",
   "execution_count": 10,
   "metadata": {},
   "outputs": [],
   "source": [
    "model = BertForQuestionAnswering.from_pretrained('bert-large-uncased-whole-word-masking-finetuned-squad')\n",
    "tokenizer = BertTokenizer.from_pretrained('bert-large-uncased-whole-word-masking-finetuned-squad')"
   ]
  },
  {
   "cell_type": "code",
   "execution_count": 11,
   "metadata": {},
   "outputs": [],
   "source": [
    "random_num = np.random.randint(0,len(data))\n",
    "\n",
    "question = data[\"question\"][random_num]\n",
    "text = data[\"text\"][random_num]"
   ]
  },
  {
   "cell_type": "code",
   "execution_count": 12,
   "metadata": {},
   "outputs": [
    {
     "name": "stdout",
     "output_type": "stream",
     "text": [
      "what else did it get at that time? \n",
      " Denmark, officially the Kingdom of Denmark, is a Nordic country and a sovereign state. The southernmost of the Scandinavian nations, it is south-west of Sweden and south of Norway, and bordered to the south by Germany. The Kingdom of Denmark also comprises two autonomous constituent countries in the North Atlantic Ocean: the Faroe Islands and Greenland. Denmark proper consists of a peninsula, Jutland, and an archipelago of 443 named islands, with the largest being Zealand, Funen and the North Jutlandic Island. The islands are characterised by flat, arable land and sandy coasts, low elevation and a temperate climate. Denmark has an area of , total area including Greenland and the Faroe Islands is , and a population of 5.75 million (). \n",
      "\n",
      "The unified kingdom of Denmark emerged in the 10th century as a proficient seafaring nation in the struggle for control of the Baltic Sea. Denmark, Sweden and Norway were ruled together under the Kalmar Union, established in 1397 and ending with Swedish secession in 1523. Denmark and Norway remained under the same monarch until outside forces dissolved the union in 1814. The union with Norway made it possible for Denmark to inherit the Faroe Islands, Greenland and Iceland. Beginning in the 17th century, there were several cessions of territory to Sweden. In the 19th century there was a surge of nationalist movements, which were defeated in the 1864 Second Schleswig War. Denmark remained neutral during World War I. In April 1940, a German invasion saw brief military skirmishes while the Danish resistance movement was active from 1943 until the German surrender in May 1945. An industrialised exporter of agricultural produce in the second half of the 19th century, Denmark introduced social and labour-market reforms in the early 20th century that created the basis for the present welfare state model with a highly developed mixed economy.\n"
     ]
    }
   ],
   "source": [
    "print(question, \"\\n\", text)"
   ]
  },
  {
   "cell_type": "code",
   "execution_count": 13,
   "metadata": {},
   "outputs": [
    {
     "name": "stdout",
     "output_type": "stream",
     "text": [
      "The input has a total of 378 tokens.\n"
     ]
    }
   ],
   "source": [
    "input_ids = tokenizer.encode(question, text)\n",
    "print(\"The input has a total of {} tokens.\".format(len(input_ids)))"
   ]
  },
  {
   "cell_type": "code",
   "execution_count": 16,
   "metadata": {},
   "outputs": [
    {
     "name": "stdout",
     "output_type": "stream",
     "text": [
      "[CLS]        101\n",
      "what       2,054\n",
      "else       2,842\n",
      "did        2,106\n",
      "it         2,009\n",
      "get        2,131\n",
      "at         2,012\n",
      "that       2,008\n",
      "time       2,051\n",
      "?          1,029\n",
      "[SEP]        102\n",
      "denmark    5,842\n",
      ",          1,010\n",
      "officially   3,985\n",
      "the        1,996\n",
      "kingdom    2,983\n",
      "of         1,997\n",
      "denmark    5,842\n",
      ",          1,010\n",
      "is         2,003\n",
      "a          1,037\n",
      "nordic    13,649\n",
      "country    2,406\n",
      "and        1,998\n",
      "a          1,037\n",
      "sovereign  11,074\n",
      "state      2,110\n",
      ".          1,012\n",
      "the        1,996\n",
      "southernmost  21,787\n",
      "of         1,997\n",
      "the        1,996\n",
      "scandinavian  17,660\n",
      "nations    3,741\n",
      ",          1,010\n",
      "it         2,009\n",
      "is         2,003\n",
      "south      2,148\n",
      "-          1,011\n",
      "west       2,225\n",
      "of         1,997\n",
      "sweden     4,701\n",
      "and        1,998\n",
      "south      2,148\n",
      "of         1,997\n",
      "norway     5,120\n",
      ",          1,010\n",
      "and        1,998\n",
      "bordered  11,356\n",
      "to         2,000\n",
      "the        1,996\n",
      "south      2,148\n",
      "by         2,011\n",
      "germany    2,762\n",
      ".          1,012\n",
      "the        1,996\n",
      "kingdom    2,983\n",
      "of         1,997\n",
      "denmark    5,842\n",
      "also       2,036\n",
      "comprises   8,681\n",
      "two        2,048\n",
      "autonomous   8,392\n",
      "constituent  13,794\n",
      "countries   3,032\n",
      "in         1,999\n",
      "the        1,996\n",
      "north      2,167\n",
      "atlantic   4,448\n",
      "ocean      4,153\n",
      ":          1,024\n",
      "the        1,996\n",
      "far        2,521\n",
      "##oe       8,913\n",
      "islands    3,470\n",
      "and        1,998\n",
      "greenland  16,128\n",
      ".          1,012\n",
      "denmark    5,842\n",
      "proper     5,372\n",
      "consists   3,774\n",
      "of         1,997\n",
      "a          1,037\n",
      "peninsula   6,000\n",
      ",          1,010\n",
      "ju        18,414\n",
      "##tland   19,270\n",
      ",          1,010\n",
      "and        1,998\n",
      "an         2,019\n",
      "archipelago  13,888\n",
      "of         1,997\n",
      "44         4,008\n",
      "##3        2,509\n",
      "named      2,315\n",
      "islands    3,470\n",
      ",          1,010\n",
      "with       2,007\n",
      "the        1,996\n",
      "largest    2,922\n",
      "being      2,108\n",
      "zealand    3,414\n",
      ",          1,010\n",
      "fun        4,569\n",
      "##en       2,368\n",
      "and        1,998\n",
      "the        1,996\n",
      "north      2,167\n",
      "ju        18,414\n",
      "##tland   19,270\n",
      "##ic       2,594\n",
      "island     2,479\n",
      ".          1,012\n",
      "the        1,996\n",
      "islands    3,470\n",
      "are        2,024\n",
      "characterised  17,253\n",
      "by         2,011\n",
      "flat       4,257\n",
      ",          1,010\n",
      "arab       5,424\n",
      "##le       2,571\n",
      "land       2,455\n",
      "and        1,998\n",
      "sandy      7,525\n",
      "coasts    20,266\n",
      ",          1,010\n",
      "low        2,659\n",
      "elevation   6,678\n",
      "and        1,998\n",
      "a          1,037\n",
      "temperate  16,868\n",
      "climate    4,785\n",
      ".          1,012\n",
      "denmark    5,842\n",
      "has        2,038\n",
      "an         2,019\n",
      "area       2,181\n",
      "of         1,997\n",
      ",          1,010\n",
      "total      2,561\n",
      "area       2,181\n",
      "including   2,164\n",
      "greenland  16,128\n",
      "and        1,998\n",
      "the        1,996\n",
      "far        2,521\n",
      "##oe       8,913\n",
      "islands    3,470\n",
      "is         2,003\n",
      ",          1,010\n",
      "and        1,998\n",
      "a          1,037\n",
      "population   2,313\n",
      "of         1,997\n",
      "5          1,019\n",
      ".          1,012\n",
      "75         4,293\n",
      "million    2,454\n",
      "(          1,006\n",
      ")          1,007\n",
      ".          1,012\n",
      "the        1,996\n",
      "unified   10,562\n",
      "kingdom    2,983\n",
      "of         1,997\n",
      "denmark    5,842\n",
      "emerged    6,003\n",
      "in         1,999\n",
      "the        1,996\n",
      "10th       6,049\n",
      "century    2,301\n",
      "as         2,004\n",
      "a          1,037\n",
      "proficient  27,029\n",
      "sea        2,712\n",
      "##far     14,971\n",
      "##ing      2,075\n",
      "nation     3,842\n",
      "in         1,999\n",
      "the        1,996\n",
      "struggle   5,998\n",
      "for        2,005\n",
      "control    2,491\n",
      "of         1,997\n",
      "the        1,996\n",
      "baltic    11,275\n",
      "sea        2,712\n",
      ".          1,012\n",
      "denmark    5,842\n",
      ",          1,010\n",
      "sweden     4,701\n",
      "and        1,998\n",
      "norway     5,120\n",
      "were       2,020\n",
      "ruled      5,451\n",
      "together   2,362\n",
      "under      2,104\n",
      "the        1,996\n",
      "ka        10,556\n",
      "##lma     19,145\n",
      "##r        2,099\n",
      "union      2,586\n",
      ",          1,010\n",
      "established   2,511\n",
      "in         1,999\n",
      "139       16,621\n",
      "##7        2,581\n",
      "and        1,998\n",
      "ending     4,566\n",
      "with       2,007\n",
      "swedish    4,467\n",
      "secession  22,965\n",
      "in         1,999\n",
      "152       15,017\n",
      "##3        2,509\n",
      ".          1,012\n",
      "denmark    5,842\n",
      "and        1,998\n",
      "norway     5,120\n",
      "remained   2,815\n",
      "under      2,104\n",
      "the        1,996\n",
      "same       2,168\n",
      "monarch   11,590\n",
      "until      2,127\n",
      "outside    2,648\n",
      "forces     2,749\n",
      "dissolved   8,314\n",
      "the        1,996\n",
      "union      2,586\n",
      "in         1,999\n",
      "1814      10,977\n",
      ".          1,012\n",
      "the        1,996\n",
      "union      2,586\n",
      "with       2,007\n",
      "norway     5,120\n",
      "made       2,081\n",
      "it         2,009\n",
      "possible   2,825\n",
      "for        2,005\n",
      "denmark    5,842\n",
      "to         2,000\n",
      "inherit   22,490\n",
      "the        1,996\n",
      "far        2,521\n",
      "##oe       8,913\n",
      "islands    3,470\n",
      ",          1,010\n",
      "greenland  16,128\n",
      "and        1,998\n",
      "iceland   10,399\n",
      ".          1,012\n",
      "beginning   2,927\n",
      "in         1,999\n",
      "the        1,996\n",
      "17th       5,550\n",
      "century    2,301\n",
      ",          1,010\n",
      "there      2,045\n",
      "were       2,020\n",
      "several    2,195\n",
      "ce         8,292\n",
      "##ssion   28,231\n",
      "##s        2,015\n",
      "of         1,997\n",
      "territory   3,700\n",
      "to         2,000\n",
      "sweden     4,701\n",
      ".          1,012\n",
      "in         1,999\n",
      "the        1,996\n",
      "19th       3,708\n",
      "century    2,301\n",
      "there      2,045\n",
      "was        2,001\n",
      "a          1,037\n",
      "surge     12,058\n",
      "of         1,997\n",
      "nationalist   8,986\n",
      "movements   5,750\n",
      ",          1,010\n",
      "which      2,029\n",
      "were       2,020\n",
      "defeated   3,249\n",
      "in         1,999\n",
      "the        1,996\n",
      "1864       6,717\n",
      "second     2,117\n",
      "schleswig  21,173\n",
      "war        2,162\n",
      ".          1,012\n",
      "denmark    5,842\n",
      "remained   2,815\n",
      "neutral    8,699\n",
      "during     2,076\n",
      "world      2,088\n",
      "war        2,162\n",
      "i          1,045\n",
      ".          1,012\n",
      "in         1,999\n",
      "april      2,258\n",
      "1940       3,878\n",
      ",          1,010\n",
      "a          1,037\n",
      "german     2,446\n",
      "invasion   5,274\n",
      "saw        2,387\n",
      "brief      4,766\n",
      "military   2,510\n",
      "skirmish  27,264\n",
      "##es       2,229\n",
      "while      2,096\n",
      "the        1,996\n",
      "danish     5,695\n",
      "resistance   5,012\n",
      "movement   2,929\n",
      "was        2,001\n",
      "active     3,161\n",
      "from       2,013\n",
      "1943       3,826\n",
      "until      2,127\n",
      "the        1,996\n",
      "german     2,446\n",
      "surrender   7,806\n",
      "in         1,999\n",
      "may        2,089\n",
      "1945       3,386\n",
      ".          1,012\n",
      "an         2,019\n",
      "industrial   3,919\n",
      "##ised     5,084\n",
      "export     9,167\n",
      "##er       2,121\n",
      "of         1,997\n",
      "agricultural   4,910\n",
      "produce    3,965\n",
      "in         1,999\n",
      "the        1,996\n",
      "second     2,117\n",
      "half       2,431\n",
      "of         1,997\n",
      "the        1,996\n",
      "19th       3,708\n",
      "century    2,301\n",
      ",          1,010\n",
      "denmark    5,842\n",
      "introduced   3,107\n",
      "social     2,591\n",
      "and        1,998\n",
      "labour     4,428\n",
      "-          1,011\n",
      "market     3,006\n",
      "reforms    8,818\n",
      "in         1,999\n",
      "the        1,996\n",
      "early      2,220\n",
      "20th       3,983\n",
      "century    2,301\n",
      "that       2,008\n",
      "created    2,580\n",
      "the        1,996\n",
      "basis      3,978\n",
      "for        2,005\n",
      "the        1,996\n",
      "present    2,556\n",
      "welfare    7,574\n",
      "state      2,110\n",
      "model      2,944\n",
      "with       2,007\n",
      "a          1,037\n",
      "highly     3,811\n",
      "developed   2,764\n",
      "mixed      3,816\n",
      "economy    4,610\n",
      ".          1,012\n",
      "[SEP]        102\n"
     ]
    }
   ],
   "source": [
    "# For each token and its id...\n",
    "tokens = tokenizer.convert_ids_to_tokens(input_ids)\n",
    "\n",
    "\n",
    "for token, id in zip(tokens, input_ids):\n",
    "    print('{:8}{:8,}'.format(token,id))"
   ]
  },
  {
   "cell_type": "code",
   "execution_count": 17,
   "metadata": {},
   "outputs": [
    {
     "name": "stdout",
     "output_type": "stream",
     "text": [
      "10\n",
      "11\n",
      "367\n",
      "[0, 0, 0, 0, 0, 0, 0, 0, 0, 0, 0, 1, 1, 1, 1, 1, 1, 1, 1, 1, 1, 1, 1, 1, 1, 1, 1, 1, 1, 1, 1, 1, 1, 1, 1, 1, 1, 1, 1, 1, 1, 1, 1, 1, 1, 1, 1, 1, 1, 1, 1, 1, 1, 1, 1, 1, 1, 1, 1, 1, 1, 1, 1, 1, 1, 1, 1, 1, 1, 1, 1, 1, 1, 1, 1, 1, 1, 1, 1, 1, 1, 1, 1, 1, 1, 1, 1, 1, 1, 1, 1, 1, 1, 1, 1, 1, 1, 1, 1, 1, 1, 1, 1, 1, 1, 1, 1, 1, 1, 1, 1, 1, 1, 1, 1, 1, 1, 1, 1, 1, 1, 1, 1, 1, 1, 1, 1, 1, 1, 1, 1, 1, 1, 1, 1, 1, 1, 1, 1, 1, 1, 1, 1, 1, 1, 1, 1, 1, 1, 1, 1, 1, 1, 1, 1, 1, 1, 1, 1, 1, 1, 1, 1, 1, 1, 1, 1, 1, 1, 1, 1, 1, 1, 1, 1, 1, 1, 1, 1, 1, 1, 1, 1, 1, 1, 1, 1, 1, 1, 1, 1, 1, 1, 1, 1, 1, 1, 1, 1, 1, 1, 1, 1, 1, 1, 1, 1, 1, 1, 1, 1, 1, 1, 1, 1, 1, 1, 1, 1, 1, 1, 1, 1, 1, 1, 1, 1, 1, 1, 1, 1, 1, 1, 1, 1, 1, 1, 1, 1, 1, 1, 1, 1, 1, 1, 1, 1, 1, 1, 1, 1, 1, 1, 1, 1, 1, 1, 1, 1, 1, 1, 1, 1, 1, 1, 1, 1, 1, 1, 1, 1, 1, 1, 1, 1, 1, 1, 1, 1, 1, 1, 1, 1, 1, 1, 1, 1, 1, 1, 1, 1, 1, 1, 1, 1, 1, 1, 1, 1, 1, 1, 1, 1, 1, 1, 1, 1, 1, 1, 1, 1, 1, 1, 1, 1, 1, 1, 1, 1, 1, 1, 1, 1, 1, 1, 1, 1, 1, 1, 1, 1, 1, 1, 1, 1, 1, 1, 1, 1, 1, 1, 1, 1, 1, 1, 1, 1, 1, 1, 1, 1, 1, 1, 1, 1, 1, 1, 1, 1, 1, 1, 1, 1, 1, 1, 1, 1, 1, 1, 1, 1, 1, 1, 1, 1, 1, 1, 1]\n"
     ]
    }
   ],
   "source": [
    "# Search the input_ids for the first instance of the `[SEP]` token.\n",
    "# first occurence of [SEP] token\n",
    "sep_idx = input_ids.index(tokenizer.sep_token_id)\n",
    "print(sep_idx)\n",
    "\n",
    "#number of tokens in segment A - question\n",
    "num_seg_a = sep_idx+1\n",
    "print(num_seg_a)\n",
    "\n",
    "#number of tokens in segment B - text\n",
    "num_seg_b = len(input_ids) - num_seg_a\n",
    "print(num_seg_b)\n",
    "\n",
    "segment_ids = [0]*num_seg_a + [1]*num_seg_b\n",
    "print(segment_ids)\n",
    "\n",
    "assert len(segment_ids) == len(input_ids)"
   ]
  },
  {
   "cell_type": "code",
   "execution_count": 35,
   "metadata": {},
   "outputs": [
    {
     "name": "stdout",
     "output_type": "stream",
     "text": [
      "start_logits end_logits\n"
     ]
    }
   ],
   "source": [
    "# Run our example through the model.\n",
    "start_scores, end_scores = model(torch.tensor([input_ids]), # The tokens representing our input text.\n",
    "                                 token_type_ids=torch.tensor([segment_ids]))\n",
    "# The segment IDs to differentiate question from answer_text\n",
    "print(start_scores,end_scores)"
   ]
  },
  {
   "cell_type": "code",
   "execution_count": 36,
   "metadata": {},
   "outputs": [],
   "source": [
    "#token input_ids to represent the input\n",
    "#token segment_ids to differentiate our segments - text and question \n",
    "output = model(torch.tensor([input_ids]), token_type_ids=torch.tensor([segment_ids]))\n",
    "#print(output.start_logits, output.end_logits)"
   ]
  },
  {
   "cell_type": "code",
   "execution_count": 37,
   "metadata": {},
   "outputs": [
    {
     "name": "stdout",
     "output_type": "stream",
     "text": [
      "tensor(246) tensor(252)\n"
     ]
    }
   ],
   "source": [
    "#tokens with highest start and end scores\n",
    "answer_start = torch.argmax(output.start_logits)\n",
    "answer_end = torch.argmax(output.end_logits)\n",
    "print(answer_start, answer_end)"
   ]
  },
  {
   "cell_type": "code",
   "execution_count": null,
   "metadata": {},
   "outputs": [],
   "source": []
  },
  {
   "cell_type": "code",
   "execution_count": 21,
   "metadata": {},
   "outputs": [
    {
     "name": "stdout",
     "output_type": "stream",
     "text": [
      "Text:\n",
      "Denmark, officially the kingdom of denmark, is a nordic country and a sovereign state. the southernmost of the scandinavian nations, it is south-west of sweden and south of norway, and bordered to the south by germany. the kingdom of denmark also comprises two autonomous constituent countries in the north atlantic ocean: the faroe islands and greenland. denmark proper consists of a peninsula, jutland, and an archipelago of 443 named islands, with the largest being zealand, funen and the north jutlandic island. the islands are characterised by flat, arable land and sandy coasts, low elevation and a temperate climate. denmark has an area of , total area including greenland and the faroe islands is , and a population of 5.75 million (). \n",
      "\n",
      "the unified kingdom of denmark emerged in the 10th century as a proficient seafaring nation in the struggle for control of the baltic sea. denmark, sweden and norway were ruled together under the kalmar union, established in 1397 and ending with swedish secession in 1523. denmark and norway remained under the same monarch until outside forces dissolved the union in 1814. the union with norway made it possible for denmark to inherit the faroe islands, greenland and iceland. beginning in the 17th century, there were several cessions of territory to sweden. in the 19th century there was a surge of nationalist movements, which were defeated in the 1864 second schleswig war. denmark remained neutral during world war i. in april 1940, a german invasion saw brief military skirmishes while the danish resistance movement was active from 1943 until the german surrender in may 1945. an industrialised exporter of agricultural produce in the second half of the 19th century, denmark introduced social and labour-market reforms in the early 20th century that created the basis for the present welfare state model with a highly developed mixed economy.\n",
      "\n",
      "Question:\n",
      "What else did it get at that time?\n",
      "\n",
      "Answer:\n",
      "Far ##oe islands , greenland and iceland.\n"
     ]
    }
   ],
   "source": [
    "if answer_end >= answer_start:\n",
    "    answer = \" \".join(tokens[answer_start:answer_end+1])\n",
    "else:\n",
    "    print(\"I am unable to find the answer to this question. Can you please ask another question?\")\n",
    "    \n",
    "print(\"Text:\\n{}\".format(text.capitalize()))\n",
    "print(\"\\nQuestion:\\n{}\".format(question.capitalize()))\n",
    "print(\"\\nAnswer:\\n{}.\".format(answer.capitalize()))"
   ]
  },
  {
   "cell_type": "markdown",
   "metadata": {},
   "source": [
    "### Visualization of the tokens"
   ]
  },
  {
   "cell_type": "code",
   "execution_count": 22,
   "metadata": {},
   "outputs": [],
   "source": [
    "start_scores = output.start_logits.detach().numpy().flatten()\n",
    "end_scores = output.end_logits.detach().numpy().flatten()\n",
    "\n",
    "token_labels = []\n",
    "for i, token in enumerate(tokens):\n",
    "    token_labels.append(\"{}-{}\".format(token,i))"
   ]
  },
  {
   "cell_type": "code",
   "execution_count": 23,
   "metadata": {},
   "outputs": [
    {
     "name": "stdout",
     "output_type": "stream",
     "text": [
      "378\n"
     ]
    }
   ],
   "source": [
    "print(len(token_labels))"
   ]
  },
  {
   "cell_type": "code",
   "execution_count": 24,
   "metadata": {},
   "outputs": [
    {
     "data": {
      "image/png": "[encoded data removed]",
      "text/plain": [
       "<Figure size 1440x720 with 1 Axes>"
      ]
     },
     "metadata": {
      "needs_background": "light"
     },
     "output_type": "display_data"
    }
   ],
   "source": [
    "#first 100 tokens\n",
    "plt.rcParams[\"figure.figsize\"] = (20,10)\n",
    "ax = sns.barplot(x=token_labels[:80], y=start_scores[:80], ci=None)\n",
    "ax.set_xticklabels(ax.get_xticklabels(), rotation=90, ha=\"center\")\n",
    "ax.grid(True)\n",
    "plt.title(\"Start word scores\")\n",
    "plt.show()"
   ]
  },
  {
   "cell_type": "code",
   "execution_count": 25,
   "metadata": {},
   "outputs": [
    {
     "data": {
      "image/png": "[encoded data removed]",
      "text/plain": [
       "<Figure size 1440x720 with 1 Axes>"
      ]
     },
     "metadata": {
      "needs_background": "light"
     },
     "output_type": "display_data"
    }
   ],
   "source": [
    "#last 100 tokens\n",
    "plt.rcParams[\"figure.figsize\"] = (20,10)\n",
    "ax = sns.barplot(x=token_labels[-80:], y=start_scores[-80:], ci=None)\n",
    "ax.set_xticklabels(ax.get_xticklabels(), rotation=90, ha=\"center\")\n",
    "ax.grid(True)\n",
    "plt.title(\"Start word scores\")\n",
    "plt.show()"
   ]
  },
  {
   "cell_type": "code",
   "execution_count": 26,
   "metadata": {},
   "outputs": [
    {
     "data": {
      "image/png": "[encoded data removed]",
      "text/plain": [
       "<Figure size 1440x720 with 1 Axes>"
      ]
     },
     "metadata": {
      "needs_background": "light"
     },
     "output_type": "display_data"
    }
   ],
   "source": [
    "#first 100 tokens\n",
    "plt.rcParams[\"figure.figsize\"] = (20,10)\n",
    "ax = sns.barplot(x=token_labels[:80], y=end_scores[:80], ci=None)\n",
    "ax.set_xticklabels(ax.get_xticklabels(), rotation=90, ha=\"center\")\n",
    "ax.grid(True)\n",
    "plt.title(\"End word scores\")\n",
    "plt.show()"
   ]
  },
  {
   "cell_type": "code",
   "execution_count": 27,
   "metadata": {},
   "outputs": [
    {
     "data": {
      "image/png": "[encoded data removed]",
      "text/plain": [
       "<Figure size 1440x720 with 1 Axes>"
      ]
     },
     "metadata": {
      "needs_background": "light"
     },
     "output_type": "display_data"
    }
   ],
   "source": [
    "#last 100 tokens\n",
    "plt.rcParams[\"figure.figsize\"] = (20,10)\n",
    "ax = sns.barplot(x=token_labels[-80:], y=end_scores[-80:], ci=None)\n",
    "ax.set_xticklabels(ax.get_xticklabels(), rotation=90, ha=\"center\")\n",
    "ax.grid(True)\n",
    "plt.title(\"End word scores\")\n",
    "plt.show()"
   ]
  },
  {
   "cell_type": "markdown",
   "metadata": {},
   "source": [
    "### Code to join the broken words"
   ]
  },
  {
   "cell_type": "code",
   "execution_count": 28,
   "metadata": {},
   "outputs": [],
   "source": [
    "answer = tokens[answer_start]\n",
    "\n",
    "for i in range(answer_start+1, answer_end+1):\n",
    "    if tokens[i][0:2] == \"##\":\n",
    "        answer += tokens[i][2:]\n",
    "    else:\n",
    "        answer += \" \" + tokens[i]"
   ]
  },
  {
   "cell_type": "markdown",
   "metadata": {},
   "source": [
    "### Function"
   ]
  },
  {
   "cell_type": "code",
   "execution_count": 29,
   "metadata": {},
   "outputs": [],
   "source": [
    "def question_answer(question, text):\n",
    "    \n",
    "    #tokenize question and text in ids as a pair\n",
    "    input_ids = tokenizer.encode(question, text)\n",
    "    \n",
    "    #string version of tokenized ids\n",
    "    tokens = tokenizer.convert_ids_to_tokens(input_ids)\n",
    "    \n",
    "    #segment IDs\n",
    "    #first occurence of [SEP] token\n",
    "    sep_idx = input_ids.index(tokenizer.sep_token_id)\n",
    "\n",
    "    #number of tokens in segment A - question\n",
    "    num_seg_a = sep_idx+1\n",
    "\n",
    "    #number of tokens in segment B - text\n",
    "    num_seg_b = len(input_ids) - num_seg_a\n",
    "    \n",
    "    #list of 0s and 1s\n",
    "    segment_ids = [0]*num_seg_a + [1]*num_seg_b\n",
    "    \n",
    "    assert len(segment_ids) == len(input_ids)\n",
    "    \n",
    "    #model output using input_ids and segment_ids\n",
    "    output = model(torch.tensor([input_ids]), token_type_ids=torch.tensor([segment_ids]))\n",
    "    \n",
    "    #reconstructing the answer\n",
    "    answer_start = torch.argmax(output.start_logits)\n",
    "    answer_end = torch.argmax(output.end_logits)\n",
    "\n",
    "    if answer_end >= answer_start:\n",
    "        answer = tokens[answer_start]\n",
    "        for i in range(answer_start+1, answer_end+1):\n",
    "            if tokens[i][0:2] == \"##\":\n",
    "                answer += tokens[i][2:]\n",
    "            else:\n",
    "                answer += \" \" + tokens[i]\n",
    "                \n",
    "    if answer.startswith(\"[CLS]\"):\n",
    "        answer = \"Unable to find the answer to your question.\"\n",
    "    \n",
    "#     print(\"Text:\\n{}\".format(text.capitalize()))\n",
    "#     print(\"\\nQuestion:\\n{}\".format(question.capitalize()))\n",
    "    print(\"\\nAnswer:\\n{}\".format(answer.capitalize()))"
   ]
  },
  {
   "cell_type": "code",
   "execution_count": 25,
   "metadata": {},
   "outputs": [
    {
     "name": "stdout",
     "output_type": "stream",
     "text": [
      "\n",
      "Answer:\n",
      "Hard rock cafe in new york ' s times square\n"
     ]
    }
   ],
   "source": [
    "text = \"\"\"New York (CNN) -- More than 80 Michael Jackson collectibles -- including the late pop star's famous rhinestone-studded glove from a 1983 performance -- were auctioned off Saturday, reaping a total $2 million. Profits from the auction at the Hard Rock Cafe in New York's Times Square crushed pre-sale expectations of only $120,000 in sales. The highly prized memorabilia, which included items spanning the many stages of Jackson's career, came from more than 30 fans, associates and family members, who contacted Julien's Auctions to sell their gifts and mementos of the singer. Jackson's flashy glove was the big-ticket item of the night, fetching $420,000 from a buyer in Hong Kong, China. Jackson wore the glove at a 1983 performance during \\\"Motown 25,\\\" an NBC special where he debuted his revolutionary moonwalk. Fellow Motown star Walter \\\"Clyde\\\" Orange of the Commodores, who also performed in the special 26 years ago, said he asked for Jackson's autograph at the time, but Jackson gave him the glove instead. \"The legacy that [Jackson] left behind is bigger than life for me,\\\" Orange said. \\\"I hope that through that glove people can see what he was trying to say in his music and what he said in his music.\\\" Orange said he plans to give a portion of the proceeds to charity. Hoffman Ma, who bought the glove on behalf of Ponte 16 Resort in Macau, paid a 25 percent buyer's premium, which was tacked onto all final sales over $50,000. Winners of items less than $50,000 paid a 20 percent premium.\"\"\"\n",
    "question = \"Where was the Auction held?\"\n",
    "\n",
    "question_answer(question, text)"
   ]
  },
  {
   "cell_type": "code",
   "execution_count": 26,
   "metadata": {},
   "outputs": [
    {
     "name": "stdout",
     "output_type": "stream",
     "text": [
      "Original answer:\n",
      " Hard Rock Cafe\n"
     ]
    }
   ],
   "source": [
    "print(\"Original answer:\\n\", data.loc[data[\"question\"] == question][\"answer\"].values[0])"
   ]
  },
  {
   "cell_type": "markdown",
   "metadata": {},
   "source": [
    "### Playing with the chatbot"
   ]
  },
  {
   "cell_type": "code",
   "execution_count": 27,
   "metadata": {},
   "outputs": [
    {
     "name": "stdin",
     "output_type": "stream",
     "text": [
      "Please enter your text: \n",
      " The Vatican Apostolic Library (), more commonly called the Vatican Library or simply the Vat, is the library of the Holy See, located in Vatican City. Formally established in 1475, although it is much older, it is one of the oldest libraries in the world and contains one of the most significant collections of historical texts. It has 75,000 codices from throughout history, as well as 1.1 million printed books, which include some 8,500 incunabula.   The Vatican Library is a research library for history, law, philosophy, science and theology. The Vatican Library is open to anyone who can document their qualifications and research needs. Photocopies for private study of pages from books published between 1801 and 1990 can be requested in person or by mail.   In March 2014, the Vatican Library began an initial four-year project of digitising its collection of manuscripts, to be made available online.   The Vatican Secret Archives were separated from the library at the beginning of the 17th century; they contain another 150,000 items.   Scholars have traditionally divided the history of the library into five periods, Pre-Lateran, Lateran, Avignon, Pre-Vatican and Vatican.   The Pre-Lateran period, comprising the initial days of the library, dated from the earliest days of the Church. Only a handful of volumes survive from this period, though some are very significant.\n",
      "\n",
      "Please enter your question: \n",
      " When was the Vat formally opened?\n"
     ]
    },
    {
     "name": "stdout",
     "output_type": "stream",
     "text": [
      "\n",
      "Answer:\n",
      "1475\n"
     ]
    },
    {
     "name": "stdin",
     "output_type": "stream",
     "text": [
      "\n",
      "Do you want to ask another question based on this text (Y/N)?  Y\n",
      "\n",
      "Please enter your question: \n",
      " what is the library for?\n"
     ]
    },
    {
     "name": "stdout",
     "output_type": "stream",
     "text": [
      "\n",
      "Answer:\n",
      "Research library for history , law , philosophy , science and theology\n"
     ]
    },
    {
     "name": "stdin",
     "output_type": "stream",
     "text": [
      "\n",
      "Do you want to ask another question based on this text (Y/N)?  Y\n",
      "\n",
      "Please enter your question: \n",
      " for what subjects?\n"
     ]
    },
    {
     "name": "stdout",
     "output_type": "stream",
     "text": [
      "\n",
      "Answer:\n",
      "History , law , philosophy , science and theology\n"
     ]
    },
    {
     "name": "stdin",
     "output_type": "stream",
     "text": [
      "\n",
      "Do you want to ask another question based on this text (Y/N)?  N\n"
     ]
    },
    {
     "name": "stdout",
     "output_type": "stream",
     "text": [
      "\n",
      "Bye!\n"
     ]
    }
   ],
   "source": [
    "text = input(\"Please enter your text: \\n\")\n",
    "question = input(\"\\nPlease enter your question: \\n\")\n",
    "\n",
    "while True:\n",
    "    question_answer(question, text)\n",
    "    \n",
    "    flag = True\n",
    "    flag_N = False\n",
    "    \n",
    "    while flag:\n",
    "        response = input(\"\\nDo you want to ask another question based on this text (Y/N)? \")\n",
    "        if response[0] == \"Y\":\n",
    "            question = input(\"\\nPlease enter your question: \\n\")\n",
    "            flag = False\n",
    "        elif response[0] == \"N\":\n",
    "            print(\"\\nBye!\")\n",
    "            flag = False\n",
    "            flag_N = True\n",
    "            \n",
    "    if flag_N == True:\n",
    "        break"
   ]
  },
  {
   "cell_type": "markdown",
   "metadata": {},
   "source": [
    "### Version checking"
   ]
  },
  {
   "cell_type": "code",
   "execution_count": 28,
   "metadata": {},
   "outputs": [
    {
     "data": {
      "text/plain": [
       "'1.4.0'"
      ]
     },
     "execution_count": 28,
     "metadata": {},
     "output_type": "execute_result"
    }
   ],
   "source": [
    "torch.__version__"
   ]
  },
  {
   "cell_type": "code",
   "execution_count": null,
   "metadata": {},
   "outputs": [],
   "source": []
  }
 ],
 "metadata": {
  "kernelspec": {
   "display_name": "Python 3",
   "language": "python",
   "name": "python3"
  },
  "language_info": {
   "codemirror_mode": {
    "name": "ipython",
    "version": 3
   },
   "file_extension": ".py",
   "mimetype": "text/x-python",
   "name": "python",
   "nbconvert_exporter": "python",
   "pygments_lexer": "ipython3",
   "version": "3.7.6"
  }
 },
 "nbformat": 4,
 "nbformat_minor": 4
}
